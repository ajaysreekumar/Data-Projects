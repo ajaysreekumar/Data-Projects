{
  "cells": [
    {
      "cell_type": "markdown",
      "metadata": {
        "id": "view-in-github",
        "colab_type": "text"
      },
      "source": [
        "<a href=\"https://colab.research.google.com/github/ajaysreekumar/Data-Projects/blob/main/Project.ipynb\" target=\"_parent\"><img src=\"https://colab.research.google.com/assets/colab-badge.svg\" alt=\"Open In Colab\"/></a>"
      ]
    },
    {
      "cell_type": "code",
      "execution_count": null,
      "id": "56de2be4-e38b-4bc7-a096-530cbdc607fe",
      "metadata": {
        "id": "56de2be4-e38b-4bc7-a096-530cbdc607fe"
      },
      "outputs": [],
      "source": [
        "import pandas as pd\n",
        "import numpy as np"
      ]
    },
    {
      "cell_type": "code",
      "source": [
        "from google.colab import drive\n",
        "drive.mount('/content/drive')"
      ],
      "metadata": {
        "id": "tUafzStGtoQ3"
      },
      "id": "tUafzStGtoQ3",
      "execution_count": null,
      "outputs": []
    },
    {
      "cell_type": "code",
      "execution_count": null,
      "id": "e5d2c185-029d-41e4-9e24-07dd4c0c5281",
      "metadata": {
        "id": "e5d2c185-029d-41e4-9e24-07dd4c0c5281"
      },
      "outputs": [],
      "source": [
        "df = pd.read_csv('dataset/spotifytoptracks.csv', index_col=0)\n",
        "df.index = range(1, len(df) + 1)"
      ]
    },
    {
      "cell_type": "code",
      "execution_count": null,
      "id": "5a54b507-b578-4bf7-b7f0-c3af9a68fbeb",
      "metadata": {
        "id": "5a54b507-b578-4bf7-b7f0-c3af9a68fbeb"
      },
      "outputs": [],
      "source": [
        "df = df.rename_axis('rank')"
      ]
    },
    {
      "cell_type": "code",
      "execution_count": null,
      "id": "8791dc0a-7adb-408e-a5a2-2d1ae4adf275",
      "metadata": {
        "id": "8791dc0a-7adb-408e-a5a2-2d1ae4adf275"
      },
      "outputs": [],
      "source": [
        "# df.rename does not change the original dataframe\n",
        "new_df=df.rename(mapper=str.strip, axis='columns')"
      ]
    },
    {
      "cell_type": "code",
      "execution_count": null,
      "id": "bec41568-4aa1-493a-8c67-2014973db8ba",
      "metadata": {
        "id": "bec41568-4aa1-493a-8c67-2014973db8ba",
        "outputId": "1f0c7c72-9198-4fdb-aad0-cacdc5beab42"
      },
      "outputs": [
        {
          "data": {
            "text/html": [
              "<div>\n",
              "<style scoped>\n",
              "    .dataframe tbody tr th:only-of-type {\n",
              "        vertical-align: middle;\n",
              "    }\n",
              "\n",
              "    .dataframe tbody tr th {\n",
              "        vertical-align: top;\n",
              "    }\n",
              "\n",
              "    .dataframe thead th {\n",
              "        text-align: right;\n",
              "    }\n",
              "</style>\n",
              "<table border=\"1\" class=\"dataframe\">\n",
              "  <thead>\n",
              "    <tr style=\"text-align: right;\">\n",
              "      <th></th>\n",
              "      <th>artist</th>\n",
              "      <th>album</th>\n",
              "      <th>track_name</th>\n",
              "      <th>track_id</th>\n",
              "      <th>energy</th>\n",
              "      <th>danceability</th>\n",
              "      <th>key</th>\n",
              "      <th>loudness</th>\n",
              "      <th>acousticness</th>\n",
              "      <th>speechiness</th>\n",
              "      <th>instrumentalness</th>\n",
              "      <th>liveness</th>\n",
              "      <th>valence</th>\n",
              "      <th>tempo</th>\n",
              "      <th>duration_ms</th>\n",
              "      <th>genre</th>\n",
              "    </tr>\n",
              "    <tr>\n",
              "      <th>rank</th>\n",
              "      <th></th>\n",
              "      <th></th>\n",
              "      <th></th>\n",
              "      <th></th>\n",
              "      <th></th>\n",
              "      <th></th>\n",
              "      <th></th>\n",
              "      <th></th>\n",
              "      <th></th>\n",
              "      <th></th>\n",
              "      <th></th>\n",
              "      <th></th>\n",
              "      <th></th>\n",
              "      <th></th>\n",
              "      <th></th>\n",
              "      <th></th>\n",
              "    </tr>\n",
              "  </thead>\n",
              "  <tbody>\n",
              "    <tr>\n",
              "      <th>1</th>\n",
              "      <td>The Weeknd</td>\n",
              "      <td>After Hours</td>\n",
              "      <td>Blinding Lights</td>\n",
              "      <td>0VjIjW4GlUZAMYd2vXMi3b</td>\n",
              "      <td>0.730</td>\n",
              "      <td>0.514</td>\n",
              "      <td>1</td>\n",
              "      <td>-5.934</td>\n",
              "      <td>0.00146</td>\n",
              "      <td>0.0598</td>\n",
              "      <td>0.000095</td>\n",
              "      <td>0.0897</td>\n",
              "      <td>0.334</td>\n",
              "      <td>171.005</td>\n",
              "      <td>200040</td>\n",
              "      <td>R&amp;B/Soul</td>\n",
              "    </tr>\n",
              "    <tr>\n",
              "      <th>2</th>\n",
              "      <td>Tones And I</td>\n",
              "      <td>Dance Monkey</td>\n",
              "      <td>Dance Monkey</td>\n",
              "      <td>1rgnBhdG2JDFTbYkYRZAku</td>\n",
              "      <td>0.593</td>\n",
              "      <td>0.825</td>\n",
              "      <td>6</td>\n",
              "      <td>-6.401</td>\n",
              "      <td>0.68800</td>\n",
              "      <td>0.0988</td>\n",
              "      <td>0.000161</td>\n",
              "      <td>0.1700</td>\n",
              "      <td>0.540</td>\n",
              "      <td>98.078</td>\n",
              "      <td>209755</td>\n",
              "      <td>Alternative/Indie</td>\n",
              "    </tr>\n",
              "    <tr>\n",
              "      <th>3</th>\n",
              "      <td>Roddy Ricch</td>\n",
              "      <td>Please Excuse Me For Being Antisocial</td>\n",
              "      <td>The Box</td>\n",
              "      <td>0nbXyq5TXYPCO7pr3N8S4I</td>\n",
              "      <td>0.586</td>\n",
              "      <td>0.896</td>\n",
              "      <td>10</td>\n",
              "      <td>-6.687</td>\n",
              "      <td>0.10400</td>\n",
              "      <td>0.0559</td>\n",
              "      <td>0.000000</td>\n",
              "      <td>0.7900</td>\n",
              "      <td>0.642</td>\n",
              "      <td>116.971</td>\n",
              "      <td>196653</td>\n",
              "      <td>Hip-Hop/Rap</td>\n",
              "    </tr>\n",
              "    <tr>\n",
              "      <th>4</th>\n",
              "      <td>SAINt JHN</td>\n",
              "      <td>Roses (Imanbek Remix)</td>\n",
              "      <td>Roses - Imanbek Remix</td>\n",
              "      <td>2Wo6QQD1KMDWeFkkjLqwx5</td>\n",
              "      <td>0.721</td>\n",
              "      <td>0.785</td>\n",
              "      <td>8</td>\n",
              "      <td>-5.457</td>\n",
              "      <td>0.01490</td>\n",
              "      <td>0.0506</td>\n",
              "      <td>0.004320</td>\n",
              "      <td>0.2850</td>\n",
              "      <td>0.894</td>\n",
              "      <td>121.962</td>\n",
              "      <td>176219</td>\n",
              "      <td>Dance/Electronic</td>\n",
              "    </tr>\n",
              "    <tr>\n",
              "      <th>5</th>\n",
              "      <td>Dua Lipa</td>\n",
              "      <td>Future Nostalgia</td>\n",
              "      <td>Don't Start Now</td>\n",
              "      <td>3PfIrDoz19wz7qK7tYeu62</td>\n",
              "      <td>0.793</td>\n",
              "      <td>0.793</td>\n",
              "      <td>11</td>\n",
              "      <td>-4.521</td>\n",
              "      <td>0.01230</td>\n",
              "      <td>0.0830</td>\n",
              "      <td>0.000000</td>\n",
              "      <td>0.0951</td>\n",
              "      <td>0.679</td>\n",
              "      <td>123.950</td>\n",
              "      <td>183290</td>\n",
              "      <td>Nu-disco</td>\n",
              "    </tr>\n",
              "  </tbody>\n",
              "</table>\n",
              "</div>"
            ],
            "text/plain": [
              "           artist                                  album  \\\n",
              "rank                                                       \n",
              "1      The Weeknd                            After Hours   \n",
              "2     Tones And I                           Dance Monkey   \n",
              "3     Roddy Ricch  Please Excuse Me For Being Antisocial   \n",
              "4       SAINt JHN                  Roses (Imanbek Remix)   \n",
              "5        Dua Lipa                       Future Nostalgia   \n",
              "\n",
              "                 track_name                track_id  energy  danceability  \\\n",
              "rank                                                                        \n",
              "1           Blinding Lights  0VjIjW4GlUZAMYd2vXMi3b   0.730         0.514   \n",
              "2              Dance Monkey  1rgnBhdG2JDFTbYkYRZAku   0.593         0.825   \n",
              "3                   The Box  0nbXyq5TXYPCO7pr3N8S4I   0.586         0.896   \n",
              "4     Roses - Imanbek Remix  2Wo6QQD1KMDWeFkkjLqwx5   0.721         0.785   \n",
              "5           Don't Start Now  3PfIrDoz19wz7qK7tYeu62   0.793         0.793   \n",
              "\n",
              "      key  loudness  acousticness  speechiness  instrumentalness  liveness  \\\n",
              "rank                                                                         \n",
              "1       1    -5.934       0.00146       0.0598          0.000095    0.0897   \n",
              "2       6    -6.401       0.68800       0.0988          0.000161    0.1700   \n",
              "3      10    -6.687       0.10400       0.0559          0.000000    0.7900   \n",
              "4       8    -5.457       0.01490       0.0506          0.004320    0.2850   \n",
              "5      11    -4.521       0.01230       0.0830          0.000000    0.0951   \n",
              "\n",
              "      valence    tempo  duration_ms              genre  \n",
              "rank                                                    \n",
              "1       0.334  171.005       200040           R&B/Soul  \n",
              "2       0.540   98.078       209755  Alternative/Indie  \n",
              "3       0.642  116.971       196653        Hip-Hop/Rap  \n",
              "4       0.894  121.962       176219   Dance/Electronic  \n",
              "5       0.679  123.950       183290           Nu-disco  "
            ]
          },
          "execution_count": 5,
          "metadata": {},
          "output_type": "execute_result"
        }
      ],
      "source": [
        "# Original dataframe column names stripped\n",
        "cols = list(df.columns)\n",
        "cols = [x.lower().strip() for x in cols]\n",
        "df.columns=cols\n",
        "df.head()"
      ]
    },
    {
      "cell_type": "markdown",
      "id": "4e804851-32fc-4dae-ae50-7168499e918b",
      "metadata": {
        "id": "4e804851-32fc-4dae-ae50-7168499e918b"
      },
      "source": [
        "# Handle missing values"
      ]
    },
    {
      "cell_type": "code",
      "execution_count": null,
      "id": "9dfbc1f0-cb60-4ce8-b941-cc22fd4d720f",
      "metadata": {
        "id": "9dfbc1f0-cb60-4ce8-b941-cc22fd4d720f",
        "outputId": "08b11ce9-a6fb-4f2e-fa6a-3851acc31c74"
      },
      "outputs": [
        {
          "name": "stdout",
          "output_type": "stream",
          "text": [
            "The DataFrame does not contain any missing values\n"
          ]
        }
      ],
      "source": [
        "# check for missing values\n",
        "missing_mask = df.isnull().any()\n",
        "if not missing_mask.any():\n",
        "    print(\"The DataFrame does not contain any missing values\")"
      ]
    },
    {
      "cell_type": "markdown",
      "id": "7b363780",
      "metadata": {
        "id": "7b363780"
      },
      "source": [
        "# Checking for duplicate values and features"
      ]
    },
    {
      "cell_type": "code",
      "execution_count": null,
      "id": "6b5bbf89",
      "metadata": {
        "id": "6b5bbf89",
        "outputId": "16f2cba6-a512-4eb7-f836-47c301139087"
      },
      "outputs": [
        {
          "name": "stdout",
          "output_type": "stream",
          "text": [
            "There are 50 unique songs in the top 50.\n"
          ]
        }
      ],
      "source": [
        "print(f\"There are {df['track_name'].nunique()} unique songs in the top 50.\")"
      ]
    },
    {
      "cell_type": "markdown",
      "id": "1e42d036",
      "metadata": {
        "id": "1e42d036"
      },
      "source": [
        "There are no duplicate features in the dataframe"
      ]
    },
    {
      "cell_type": "code",
      "execution_count": null,
      "id": "447e0d75-a953-4e93-b09f-98fde774a1d5",
      "metadata": {
        "id": "447e0d75-a953-4e93-b09f-98fde774a1d5",
        "outputId": "c3797605-62d2-47c7-c540-572e8cd64080"
      },
      "outputs": [
        {
          "name": "stdout",
          "output_type": "stream",
          "text": [
            "There are 50 observations in the dataset.\n"
          ]
        }
      ],
      "source": [
        "# Number of observations in the dataframe\n",
        "print(f\"There are {df.shape[0]} observations in the dataset.\")"
      ]
    },
    {
      "cell_type": "code",
      "execution_count": null,
      "id": "221e8afe",
      "metadata": {
        "id": "221e8afe",
        "outputId": "18eb6ebf-3890-4a8a-f2a7-37309640846a"
      },
      "outputs": [
        {
          "name": "stdout",
          "output_type": "stream",
          "text": [
            "There are 16 features in the dataframe.\n"
          ]
        }
      ],
      "source": [
        "# Number of features in the dataframe\n",
        "print(f\"There are {df.shape[1]} features in the dataframe.\")"
      ]
    },
    {
      "cell_type": "markdown",
      "id": "a98adfcd",
      "metadata": {
        "id": "a98adfcd"
      },
      "source": [
        "- `energy`, `danceability`,`loudness`,`acousticness`,\t`speechiness`,`instrumentalness`, `liveness`, `valence`, `tempo`, `duration_ms` are numeric features.\n",
        "\n",
        "- `artist`,`album`, `key`, `track_name`, `track_id` and `genre` are categorical features."
      ]
    },
    {
      "cell_type": "markdown",
      "id": "923b7f27",
      "metadata": {
        "id": "923b7f27"
      },
      "source": [
        "Are there any artists that have more than 1 popular track? If yes, which and how many?"
      ]
    },
    {
      "cell_type": "code",
      "execution_count": null,
      "id": "0a17937d",
      "metadata": {
        "id": "0a17937d",
        "outputId": "827312d1-d5d3-474e-943a-36bc191098de"
      },
      "outputs": [
        {
          "name": "stdout",
          "output_type": "stream",
          "text": [
            "The following artists have more than 1 popular tracks:\n"
          ]
        },
        {
          "data": {
            "text/html": [
              "<div>\n",
              "<style scoped>\n",
              "    .dataframe tbody tr th:only-of-type {\n",
              "        vertical-align: middle;\n",
              "    }\n",
              "\n",
              "    .dataframe tbody tr th {\n",
              "        vertical-align: top;\n",
              "    }\n",
              "\n",
              "    .dataframe thead th {\n",
              "        text-align: right;\n",
              "    }\n",
              "</style>\n",
              "<table border=\"1\" class=\"dataframe\">\n",
              "  <thead>\n",
              "    <tr style=\"text-align: right;\">\n",
              "      <th></th>\n",
              "      <th></th>\n",
              "      <th>track_name</th>\n",
              "    </tr>\n",
              "    <tr>\n",
              "      <th>artist</th>\n",
              "      <th>total counts</th>\n",
              "      <th></th>\n",
              "    </tr>\n",
              "  </thead>\n",
              "  <tbody>\n",
              "    <tr>\n",
              "      <th rowspan=\"3\" valign=\"top\">Billie Eilish</th>\n",
              "      <th>3</th>\n",
              "      <td>everything i wanted</td>\n",
              "    </tr>\n",
              "    <tr>\n",
              "      <th>3</th>\n",
              "      <td>bad guy</td>\n",
              "    </tr>\n",
              "    <tr>\n",
              "      <th>3</th>\n",
              "      <td>lovely (with Khalid)</td>\n",
              "    </tr>\n",
              "    <tr>\n",
              "      <th rowspan=\"3\" valign=\"top\">Dua Lipa</th>\n",
              "      <th>3</th>\n",
              "      <td>Don't Start Now</td>\n",
              "    </tr>\n",
              "    <tr>\n",
              "      <th>3</th>\n",
              "      <td>Break My Heart</td>\n",
              "    </tr>\n",
              "    <tr>\n",
              "      <th>3</th>\n",
              "      <td>Physical</td>\n",
              "    </tr>\n",
              "    <tr>\n",
              "      <th rowspan=\"2\" valign=\"top\">Harry Styles</th>\n",
              "      <th>2</th>\n",
              "      <td>Watermelon Sugar</td>\n",
              "    </tr>\n",
              "    <tr>\n",
              "      <th>2</th>\n",
              "      <td>Adore You</td>\n",
              "    </tr>\n",
              "    <tr>\n",
              "      <th rowspan=\"2\" valign=\"top\">Justin Bieber</th>\n",
              "      <th>2</th>\n",
              "      <td>Intentions (feat. Quavo)</td>\n",
              "    </tr>\n",
              "    <tr>\n",
              "      <th>2</th>\n",
              "      <td>Yummy</td>\n",
              "    </tr>\n",
              "    <tr>\n",
              "      <th rowspan=\"2\" valign=\"top\">Lewis Capaldi</th>\n",
              "      <th>2</th>\n",
              "      <td>Someone You Loved</td>\n",
              "    </tr>\n",
              "    <tr>\n",
              "      <th>2</th>\n",
              "      <td>Before You Go</td>\n",
              "    </tr>\n",
              "    <tr>\n",
              "      <th rowspan=\"2\" valign=\"top\">Post Malone</th>\n",
              "      <th>2</th>\n",
              "      <td>Circles</td>\n",
              "    </tr>\n",
              "    <tr>\n",
              "      <th>2</th>\n",
              "      <td>Sunflower - Spider-Man: Into the Spider-Verse</td>\n",
              "    </tr>\n",
              "    <tr>\n",
              "      <th rowspan=\"3\" valign=\"top\">Travis Scott</th>\n",
              "      <th>3</th>\n",
              "      <td>HIGHEST IN THE ROOM</td>\n",
              "    </tr>\n",
              "    <tr>\n",
              "      <th>3</th>\n",
              "      <td>goosebumps</td>\n",
              "    </tr>\n",
              "    <tr>\n",
              "      <th>3</th>\n",
              "      <td>SICKO MODE</td>\n",
              "    </tr>\n",
              "  </tbody>\n",
              "</table>\n",
              "</div>"
            ],
            "text/plain": [
              "                                                               track_name\n",
              "artist        total counts                                               \n",
              "Billie Eilish 3                                       everything i wanted\n",
              "              3                                                   bad guy\n",
              "              3                                      lovely (with Khalid)\n",
              "Dua Lipa      3                                           Don't Start Now\n",
              "              3                                            Break My Heart\n",
              "              3                                                  Physical\n",
              "Harry Styles  2                                          Watermelon Sugar\n",
              "              2                                                 Adore You\n",
              "Justin Bieber 2                                  Intentions (feat. Quavo)\n",
              "              2                                                     Yummy\n",
              "Lewis Capaldi 2                                         Someone You Loved\n",
              "              2                                             Before You Go\n",
              "Post Malone   2                                                   Circles\n",
              "              2             Sunflower - Spider-Man: Into the Spider-Verse\n",
              "Travis Scott  3                                       HIGHEST IN THE ROOM\n",
              "              3                                                goosebumps\n",
              "              3                                                SICKO MODE"
            ]
          },
          "execution_count": 10,
          "metadata": {},
          "output_type": "execute_result"
        }
      ],
      "source": [
        "# Print a header for the output\n",
        "print(\"The following artists have more than 1 popular tracks:\")\n",
        "\n",
        "# Identify duplicate artists based on the 'artist' column\n",
        "duplicates = df['artist'][df['artist'].duplicated(keep=False)]\n",
        "\n",
        "# Create a DataFrame with counts of duplicate artists\n",
        "dupl_df = pd.DataFrame(duplicates.value_counts())\n",
        "\n",
        "# Rename columns for clarity and set the index name\n",
        "dupl_df = dupl_df.rename(columns={'artist': 'total counts'}).rename_axis('artists')\n",
        "\n",
        "# Filter the original DataFrame to get rows with duplicate artists\n",
        "duplicates = df[df.duplicated(subset=['artist'], keep=False)]\n",
        "\n",
        "# Create a DataFrame with 'artist' and 'track_name' columns, set 'artist' as the index\n",
        "df_2 = duplicates[['artist', 'track_name']].set_index('artist')\n",
        "\n",
        "# Merge the DataFrame with duplicate counts and the DataFrame with 'artist' and 'track_name'\n",
        "df_art_more1tracks = pd.merge(dupl_df, df_2, how='inner', left_index=True, right_index=True)\n",
        "\n",
        "# Rename the index to 'artist'\n",
        "df_art_multipletracks = df_art_more1tracks.rename_axis(index='artist')\n",
        "\n",
        "# Set 'total counts' as a secondary index\n",
        "df_art_multipletracks.set_index('total counts', append=True, inplace=True)\n",
        "\n",
        "# Display the resulting DataFrame\n",
        "df_art_multipletracks\n"
      ]
    },
    {
      "cell_type": "code",
      "execution_count": null,
      "id": "558066c8",
      "metadata": {
        "id": "558066c8",
        "outputId": "c085bfa9-2d48-4557-b4d0-0105e0906793"
      },
      "outputs": [
        {
          "name": "stdout",
          "output_type": "stream",
          "text": [
            "The most popular artist is The Weeknd.\n"
          ]
        }
      ],
      "source": [
        "artist_value = df.loc[1, 'artist']\n",
        "print(f\"The most popular artist is {artist_value}.\")"
      ]
    },
    {
      "cell_type": "code",
      "execution_count": null,
      "id": "ad362295",
      "metadata": {
        "id": "ad362295",
        "outputId": "21e6fb7e-b914-4bac-9354-278af08398db"
      },
      "outputs": [
        {
          "name": "stdout",
          "output_type": "stream",
          "text": [
            "40 artists have their songs in the top 50.\n"
          ]
        }
      ],
      "source": [
        "print(f\"{df['artist'].nunique()} artists have their songs in the top 50.\")"
      ]
    },
    {
      "cell_type": "markdown",
      "id": "cb6979fd",
      "metadata": {
        "id": "cb6979fd"
      },
      "source": [
        " Are there any albums that have more than 1 popular track? If yes, which and how many?"
      ]
    },
    {
      "cell_type": "code",
      "execution_count": null,
      "id": "92943785",
      "metadata": {
        "id": "92943785",
        "outputId": "f40e5c6e-2f4f-46c1-f109-e8b23541e12e"
      },
      "outputs": [
        {
          "name": "stdout",
          "output_type": "stream",
          "text": [
            "The following albums have more than one track in the Top 50:\n"
          ]
        },
        {
          "data": {
            "text/html": [
              "<div>\n",
              "<style scoped>\n",
              "    .dataframe tbody tr th:only-of-type {\n",
              "        vertical-align: middle;\n",
              "    }\n",
              "\n",
              "    .dataframe tbody tr th {\n",
              "        vertical-align: top;\n",
              "    }\n",
              "\n",
              "    .dataframe thead th {\n",
              "        text-align: right;\n",
              "    }\n",
              "</style>\n",
              "<table border=\"1\" class=\"dataframe\">\n",
              "  <thead>\n",
              "    <tr style=\"text-align: right;\">\n",
              "      <th></th>\n",
              "      <th>track_name</th>\n",
              "    </tr>\n",
              "    <tr>\n",
              "      <th>album</th>\n",
              "      <th></th>\n",
              "    </tr>\n",
              "  </thead>\n",
              "  <tbody>\n",
              "    <tr>\n",
              "      <th>Changes</th>\n",
              "      <td>Intentions (feat. Quavo)</td>\n",
              "    </tr>\n",
              "    <tr>\n",
              "      <th>Changes</th>\n",
              "      <td>Yummy</td>\n",
              "    </tr>\n",
              "    <tr>\n",
              "      <th>Fine Line</th>\n",
              "      <td>Watermelon Sugar</td>\n",
              "    </tr>\n",
              "    <tr>\n",
              "      <th>Fine Line</th>\n",
              "      <td>Adore You</td>\n",
              "    </tr>\n",
              "    <tr>\n",
              "      <th>Future Nostalgia</th>\n",
              "      <td>Don't Start Now</td>\n",
              "    </tr>\n",
              "    <tr>\n",
              "      <th>Future Nostalgia</th>\n",
              "      <td>Break My Heart</td>\n",
              "    </tr>\n",
              "    <tr>\n",
              "      <th>Future Nostalgia</th>\n",
              "      <td>Physical</td>\n",
              "    </tr>\n",
              "    <tr>\n",
              "      <th>Hollywood's Bleeding</th>\n",
              "      <td>Circles</td>\n",
              "    </tr>\n",
              "    <tr>\n",
              "      <th>Hollywood's Bleeding</th>\n",
              "      <td>Sunflower - Spider-Man: Into the Spider-Verse</td>\n",
              "    </tr>\n",
              "  </tbody>\n",
              "</table>\n",
              "</div>"
            ],
            "text/plain": [
              "                                                         track_name\n",
              "album                                                              \n",
              "Changes                                    Intentions (feat. Quavo)\n",
              "Changes                                                       Yummy\n",
              "Fine Line                                          Watermelon Sugar\n",
              "Fine Line                                                 Adore You\n",
              "Future Nostalgia                                    Don't Start Now\n",
              "Future Nostalgia                                     Break My Heart\n",
              "Future Nostalgia                                           Physical\n",
              "Hollywood's Bleeding                                        Circles\n",
              "Hollywood's Bleeding  Sunflower - Spider-Man: Into the Spider-Verse"
            ]
          },
          "execution_count": 13,
          "metadata": {},
          "output_type": "execute_result"
        }
      ],
      "source": [
        "# Print a header for the output\n",
        "print(\"The following albums have more than one track in the Top 50:\")\n",
        "\n",
        "# Identify rows with duplicate albums based on the 'album' column\n",
        "duplicate_albums = df[df.duplicated(subset=['album'], keep=False)]\n",
        "\n",
        "# Sort the DataFrame by 'album' for better readability\n",
        "sorted_duplicate_albums = duplicate_albums.sort_values(by='album').reset_index()\n",
        "\n",
        "# Create a new DataFrame with only 'album' and 'track_name' columns\n",
        "df_duplicate_albums = sorted_duplicate_albums[['album', 'track_name']]\n",
        "\n",
        "# Set 'album' as the index of the DataFrame\n",
        "df_duplicate_albums.set_index('album')\n"
      ]
    },
    {
      "cell_type": "code",
      "execution_count": null,
      "id": "3c508c9d",
      "metadata": {
        "id": "3c508c9d",
        "outputId": "b1b17d05-24bd-4606-f8f0-7c61e0c70033"
      },
      "outputs": [
        {
          "name": "stdout",
          "output_type": "stream",
          "text": [
            "45 albums have their songs in the top 50.\n"
          ]
        }
      ],
      "source": [
        "print(f\"{df['album'].nunique()} albums have their songs in the top 50.\")"
      ]
    },
    {
      "cell_type": "markdown",
      "id": "39450dd4",
      "metadata": {
        "id": "39450dd4"
      },
      "source": [
        "Which tracks have a danceability score above 0.7?"
      ]
    },
    {
      "cell_type": "code",
      "execution_count": null,
      "id": "002de21e",
      "metadata": {
        "id": "002de21e",
        "outputId": "f111de05-7e68-480f-dee7-7185a913964a"
      },
      "outputs": [
        {
          "name": "stdout",
          "output_type": "stream",
          "text": [
            "The tracks with danceability greater than 0.7:\n",
            "                                       track_name  danceability\n",
            "1                                         bad guy         0.701\n",
            "2                             everything i wanted         0.704\n",
            "3                                      THE SCOTTS         0.716\n",
            "4                       RITMO (Bad Boys For Life)         0.723\n",
            "5                death bed (coffee for your head)         0.726\n",
            "6                                  Break My Heart         0.730\n",
            "7                                        Dynamite         0.746\n",
            "8                    ROCKSTAR (feat. Roddy Ricch)         0.746\n",
            "9   Sunflower - Spider-Man: Into the Spider-Verse         0.755\n",
            "10                                       Señorita         0.759\n",
            "11                                       Memories         0.764\n",
            "12               Savage Love (Laxed - Siren Beat)         0.767\n",
            "13                                Blueberry Faygo         0.774\n",
            "14                                          Hawái         0.783\n",
            "15                                        Falling         0.784\n",
            "16                          Roses - Imanbek Remix         0.785\n",
            "17                                         Say So         0.787\n",
            "18                                    Breaking Me         0.789\n",
            "19                                Don't Start Now         0.793\n",
            "20                     Life Is Good (feat. Drake)         0.795\n",
            "21                                           Tusa         0.803\n",
            "22                       Intentions (feat. Quavo)         0.806\n",
            "23                    Godzilla (feat. Juice WRLD)         0.808\n",
            "24                                   Dance Monkey         0.825\n",
            "25                                   Toosie Slide         0.830\n",
            "26                                     SICKO MODE         0.834\n",
            "27                                     goosebumps         0.841\n",
            "28               Supalonely (feat. Gus Dapperton)         0.862\n",
            "29                                    Sunday Best         0.878\n",
            "30                                        Ride It         0.880\n",
            "31                                        The Box         0.896\n",
            "32                WAP (feat. Megan Thee Stallion)         0.935\n"
          ]
        }
      ],
      "source": [
        "print(\"The tracks with danceability greater than 0.7:\")\n",
        "result = df[df['danceability']> 0.7][['track_name','danceability']].reset_index(drop = True)\n",
        "sorted_df = (result.sort_values(by='danceability')).reset_index()\n",
        "sorted_df.index = sorted_df.index + 1\n",
        "print(sorted_df.drop(columns = 'index'))"
      ]
    },
    {
      "cell_type": "markdown",
      "id": "41950450",
      "metadata": {
        "id": "41950450"
      },
      "source": [
        "Which tracks have a danceability score less than 0.4?"
      ]
    },
    {
      "cell_type": "code",
      "execution_count": null,
      "id": "80697048",
      "metadata": {
        "id": "80697048",
        "outputId": "04b965a6-7ea6-4567-9c6f-906d28638d7d"
      },
      "outputs": [
        {
          "name": "stdout",
          "output_type": "stream",
          "text": [
            "The tracks with danceability less than 0.4:\n",
            "             track_name  danceability\n",
            "1  lovely (with Khalid)         0.351\n"
          ]
        }
      ],
      "source": [
        "print(\"The tracks with danceability less than 0.4:\")\n",
        "result_below4 = df[df['danceability']< 0.4][['track_name', 'danceability']].reset_index(drop = True)\n",
        "result_below4.index = result_below4.index+1\n",
        "print(result_below4)"
      ]
    },
    {
      "cell_type": "markdown",
      "id": "d7878376",
      "metadata": {
        "id": "d7878376"
      },
      "source": [
        "Which tracks have a loudness score above -5?"
      ]
    },
    {
      "cell_type": "code",
      "execution_count": null,
      "id": "c9dc0a5f",
      "metadata": {
        "id": "c9dc0a5f",
        "outputId": "526e4c0f-9f1d-4e23-809b-c5d852afa6ff"
      },
      "outputs": [
        {
          "name": "stdout",
          "output_type": "stream",
          "text": [
            "The tracks with loudness greater than -5:\n"
          ]
        },
        {
          "data": {
            "text/html": [
              "<div>\n",
              "<style scoped>\n",
              "    .dataframe tbody tr th:only-of-type {\n",
              "        vertical-align: middle;\n",
              "    }\n",
              "\n",
              "    .dataframe tbody tr th {\n",
              "        vertical-align: top;\n",
              "    }\n",
              "\n",
              "    .dataframe thead th {\n",
              "        text-align: right;\n",
              "    }\n",
              "</style>\n",
              "<table border=\"1\" class=\"dataframe\">\n",
              "  <thead>\n",
              "    <tr style=\"text-align: right;\">\n",
              "      <th></th>\n",
              "      <th>track_name</th>\n",
              "      <th>loudness</th>\n",
              "    </tr>\n",
              "  </thead>\n",
              "  <tbody>\n",
              "    <tr>\n",
              "      <th>1</th>\n",
              "      <td>Before You Go</td>\n",
              "      <td>-4.858</td>\n",
              "    </tr>\n",
              "    <tr>\n",
              "      <th>2</th>\n",
              "      <td>Supalonely (feat. Gus Dapperton)</td>\n",
              "      <td>-4.746</td>\n",
              "    </tr>\n",
              "    <tr>\n",
              "      <th>3</th>\n",
              "      <td>Say So</td>\n",
              "      <td>-4.577</td>\n",
              "    </tr>\n",
              "    <tr>\n",
              "      <th>4</th>\n",
              "      <td>Don't Start Now</td>\n",
              "      <td>-4.521</td>\n",
              "    </tr>\n",
              "    <tr>\n",
              "      <th>5</th>\n",
              "      <td>Dynamite</td>\n",
              "      <td>-4.410</td>\n",
              "    </tr>\n",
              "    <tr>\n",
              "      <th>6</th>\n",
              "      <td>Sunflower - Spider-Man: Into the Spider-Verse</td>\n",
              "      <td>-4.368</td>\n",
              "    </tr>\n",
              "    <tr>\n",
              "      <th>7</th>\n",
              "      <td>Ride It</td>\n",
              "      <td>-4.258</td>\n",
              "    </tr>\n",
              "    <tr>\n",
              "      <th>8</th>\n",
              "      <td>Watermelon Sugar</td>\n",
              "      <td>-4.209</td>\n",
              "    </tr>\n",
              "    <tr>\n",
              "      <th>9</th>\n",
              "      <td>Safaera</td>\n",
              "      <td>-4.074</td>\n",
              "    </tr>\n",
              "    <tr>\n",
              "      <th>10</th>\n",
              "      <td>Rain On Me (with Ariana Grande)</td>\n",
              "      <td>-3.764</td>\n",
              "    </tr>\n",
              "    <tr>\n",
              "      <th>11</th>\n",
              "      <td>Physical</td>\n",
              "      <td>-3.756</td>\n",
              "    </tr>\n",
              "    <tr>\n",
              "      <th>12</th>\n",
              "      <td>SICKO MODE</td>\n",
              "      <td>-3.714</td>\n",
              "    </tr>\n",
              "    <tr>\n",
              "      <th>13</th>\n",
              "      <td>Adore You</td>\n",
              "      <td>-3.675</td>\n",
              "    </tr>\n",
              "    <tr>\n",
              "      <th>14</th>\n",
              "      <td>Mood (feat. iann dior)</td>\n",
              "      <td>-3.558</td>\n",
              "    </tr>\n",
              "    <tr>\n",
              "      <th>15</th>\n",
              "      <td>Circles</td>\n",
              "      <td>-3.497</td>\n",
              "    </tr>\n",
              "    <tr>\n",
              "      <th>16</th>\n",
              "      <td>Hawái</td>\n",
              "      <td>-3.454</td>\n",
              "    </tr>\n",
              "    <tr>\n",
              "      <th>17</th>\n",
              "      <td>Break My Heart</td>\n",
              "      <td>-3.434</td>\n",
              "    </tr>\n",
              "    <tr>\n",
              "      <th>18</th>\n",
              "      <td>goosebumps</td>\n",
              "      <td>-3.370</td>\n",
              "    </tr>\n",
              "    <tr>\n",
              "      <th>19</th>\n",
              "      <td>Tusa</td>\n",
              "      <td>-3.280</td>\n",
              "    </tr>\n",
              "  </tbody>\n",
              "</table>\n",
              "</div>"
            ],
            "text/plain": [
              "                                       track_name  loudness\n",
              "1                                   Before You Go    -4.858\n",
              "2                Supalonely (feat. Gus Dapperton)    -4.746\n",
              "3                                          Say So    -4.577\n",
              "4                                 Don't Start Now    -4.521\n",
              "5                                        Dynamite    -4.410\n",
              "6   Sunflower - Spider-Man: Into the Spider-Verse    -4.368\n",
              "7                                         Ride It    -4.258\n",
              "8                                Watermelon Sugar    -4.209\n",
              "9                                         Safaera    -4.074\n",
              "10                Rain On Me (with Ariana Grande)    -3.764\n",
              "11                                       Physical    -3.756\n",
              "12                                     SICKO MODE    -3.714\n",
              "13                                      Adore You    -3.675\n",
              "14                         Mood (feat. iann dior)    -3.558\n",
              "15                                        Circles    -3.497\n",
              "16                                          Hawái    -3.454\n",
              "17                                 Break My Heart    -3.434\n",
              "18                                     goosebumps    -3.370\n",
              "19                                           Tusa    -3.280"
            ]
          },
          "execution_count": 17,
          "metadata": {},
          "output_type": "execute_result"
        }
      ],
      "source": [
        "print(\"The tracks with loudness greater than -5:\")\n",
        "result_loud_abv5 = df[df['loudness']> -5][['track_name','loudness']].reset_index(drop=True)\n",
        "sorted_df_loud_abv5 = (result_loud_abv5.sort_values(by='loudness')).reset_index()\n",
        "sorted_df_loud_abv5.index = sorted_df_loud_abv5.index + 1\n",
        "sorted_df_loud_abv5.drop(columns = 'index')"
      ]
    },
    {
      "cell_type": "markdown",
      "id": "5ced3c5f",
      "metadata": {
        "id": "5ced3c5f"
      },
      "source": [
        "Which tracks have a loudness score less than -8?"
      ]
    },
    {
      "cell_type": "code",
      "execution_count": null,
      "id": "c52bed9d",
      "metadata": {
        "id": "c52bed9d",
        "outputId": "c3ce7772-cd1b-4d4e-8ba0-c1b23fa659f8"
      },
      "outputs": [
        {
          "name": "stdout",
          "output_type": "stream",
          "text": [
            "The tracks with loudness less than -8:\n"
          ]
        },
        {
          "data": {
            "text/html": [
              "<div>\n",
              "<style scoped>\n",
              "    .dataframe tbody tr th:only-of-type {\n",
              "        vertical-align: middle;\n",
              "    }\n",
              "\n",
              "    .dataframe tbody tr th {\n",
              "        vertical-align: top;\n",
              "    }\n",
              "\n",
              "    .dataframe thead th {\n",
              "        text-align: right;\n",
              "    }\n",
              "</style>\n",
              "<table border=\"1\" class=\"dataframe\">\n",
              "  <thead>\n",
              "    <tr style=\"text-align: right;\">\n",
              "      <th></th>\n",
              "      <th>track_name</th>\n",
              "      <th>loudness</th>\n",
              "    </tr>\n",
              "  </thead>\n",
              "  <tbody>\n",
              "    <tr>\n",
              "      <th>1</th>\n",
              "      <td>death bed (coffee for your head)</td>\n",
              "      <td>-8.765</td>\n",
              "    </tr>\n",
              "    <tr>\n",
              "      <th>2</th>\n",
              "      <td>Falling</td>\n",
              "      <td>-8.756</td>\n",
              "    </tr>\n",
              "    <tr>\n",
              "      <th>3</th>\n",
              "      <td>Toosie Slide</td>\n",
              "      <td>-8.820</td>\n",
              "    </tr>\n",
              "    <tr>\n",
              "      <th>4</th>\n",
              "      <td>Savage Love (Laxed - Siren Beat)</td>\n",
              "      <td>-8.520</td>\n",
              "    </tr>\n",
              "    <tr>\n",
              "      <th>5</th>\n",
              "      <td>everything i wanted</td>\n",
              "      <td>-14.454</td>\n",
              "    </tr>\n",
              "    <tr>\n",
              "      <th>6</th>\n",
              "      <td>bad guy</td>\n",
              "      <td>-10.965</td>\n",
              "    </tr>\n",
              "    <tr>\n",
              "      <th>7</th>\n",
              "      <td>HIGHEST IN THE ROOM</td>\n",
              "      <td>-8.764</td>\n",
              "    </tr>\n",
              "    <tr>\n",
              "      <th>8</th>\n",
              "      <td>lovely (with Khalid)</td>\n",
              "      <td>-10.109</td>\n",
              "    </tr>\n",
              "    <tr>\n",
              "      <th>9</th>\n",
              "      <td>If the World Was Ending - feat. Julia Michaels</td>\n",
              "      <td>-10.086</td>\n",
              "    </tr>\n",
              "  </tbody>\n",
              "</table>\n",
              "</div>"
            ],
            "text/plain": [
              "                                       track_name  loudness\n",
              "1                death bed (coffee for your head)    -8.765\n",
              "2                                         Falling    -8.756\n",
              "3                                    Toosie Slide    -8.820\n",
              "4                Savage Love (Laxed - Siren Beat)    -8.520\n",
              "5                             everything i wanted   -14.454\n",
              "6                                         bad guy   -10.965\n",
              "7                             HIGHEST IN THE ROOM    -8.764\n",
              "8                            lovely (with Khalid)   -10.109\n",
              "9  If the World Was Ending - feat. Julia Michaels   -10.086"
            ]
          },
          "execution_count": 18,
          "metadata": {},
          "output_type": "execute_result"
        }
      ],
      "source": [
        "print(\"The tracks with loudness less than -8:\")\n",
        "result_loud_blw8 = df[df['loudness']< -8][['track_name','loudness']].reset_index(drop=True)\n",
        "result_loud_blw8.index = result_loud_blw8.index + 1\n",
        "result_loud_blw8"
      ]
    },
    {
      "cell_type": "markdown",
      "id": "7fbb1038",
      "metadata": {
        "id": "7fbb1038"
      },
      "source": [
        "Which track is the longest?"
      ]
    },
    {
      "cell_type": "code",
      "execution_count": null,
      "id": "f1728907",
      "metadata": {
        "id": "f1728907",
        "outputId": "bed79f93-5f0c-486b-c73c-cf9d8e78478c"
      },
      "outputs": [
        {
          "name": "stdout",
          "output_type": "stream",
          "text": [
            "SICKO MODE is the longest track \n"
          ]
        }
      ],
      "source": [
        "max_duration_index = df['duration_ms'].idxmax()\n",
        "longest_track = df.loc[max_duration_index, 'track_name']\n",
        "print(f\"{longest_track} is the longest track \")"
      ]
    },
    {
      "cell_type": "markdown",
      "id": "cf256be9",
      "metadata": {
        "id": "cf256be9"
      },
      "source": [
        "Which track is the shortest?"
      ]
    },
    {
      "cell_type": "code",
      "execution_count": null,
      "id": "7c5550e3",
      "metadata": {
        "id": "7c5550e3",
        "outputId": "5eda3932-4d1e-460f-939a-f35146b7f5d5"
      },
      "outputs": [
        {
          "name": "stdout",
          "output_type": "stream",
          "text": [
            "Mood (feat. iann dior) is the shortest track.\n"
          ]
        }
      ],
      "source": [
        "min_duration_index = df['duration_ms'].idxmin()\n",
        "shortest_track = df.loc[min_duration_index, 'track_name']\n",
        "print(f\"{shortest_track} is the shortest track.\")"
      ]
    },
    {
      "cell_type": "markdown",
      "id": "60f112a0",
      "metadata": {
        "id": "60f112a0"
      },
      "source": [
        "Which genre is the most popular?"
      ]
    },
    {
      "cell_type": "code",
      "execution_count": null,
      "id": "8ccc63f8",
      "metadata": {
        "id": "8ccc63f8",
        "outputId": "1666ff28-984c-4f99-c8d7-b5b8aca228aa"
      },
      "outputs": [
        {
          "name": "stdout",
          "output_type": "stream",
          "text": [
            "Pop is the most popular genre.\n"
          ]
        }
      ],
      "source": [
        "genre1 = df['genre'].mode().iloc[0]\n",
        "print(f\"{genre1} is the most popular genre.\")"
      ]
    },
    {
      "cell_type": "markdown",
      "id": "2be22968",
      "metadata": {
        "id": "2be22968"
      },
      "source": [
        "Which genres have just one song on the top 50?"
      ]
    },
    {
      "cell_type": "code",
      "execution_count": null,
      "id": "86299bdf",
      "metadata": {
        "id": "86299bdf",
        "outputId": "0670a41a-e61d-4be9-a89d-e4489a993e4c"
      },
      "outputs": [
        {
          "name": "stdout",
          "output_type": "stream",
          "text": [
            "The following genres have only one song in the top 50:\n"
          ]
        },
        {
          "data": {
            "text/html": [
              "<div>\n",
              "<style scoped>\n",
              "    .dataframe tbody tr th:only-of-type {\n",
              "        vertical-align: middle;\n",
              "    }\n",
              "\n",
              "    .dataframe tbody tr th {\n",
              "        vertical-align: top;\n",
              "    }\n",
              "\n",
              "    .dataframe thead th {\n",
              "        text-align: right;\n",
              "    }\n",
              "</style>\n",
              "<table border=\"1\" class=\"dataframe\">\n",
              "  <thead>\n",
              "    <tr style=\"text-align: right;\">\n",
              "      <th></th>\n",
              "      <th>0</th>\n",
              "    </tr>\n",
              "  </thead>\n",
              "  <tbody>\n",
              "    <tr>\n",
              "      <th>0</th>\n",
              "      <td>R&amp;B/Soul</td>\n",
              "    </tr>\n",
              "    <tr>\n",
              "      <th>1</th>\n",
              "      <td>Alternative/Indie</td>\n",
              "    </tr>\n",
              "    <tr>\n",
              "      <th>2</th>\n",
              "      <td>Hip-Hop/Rap</td>\n",
              "    </tr>\n",
              "    <tr>\n",
              "      <th>3</th>\n",
              "      <td>Dance/Electronic</td>\n",
              "    </tr>\n",
              "    <tr>\n",
              "      <th>4</th>\n",
              "      <td>Nu-disco</td>\n",
              "    </tr>\n",
              "    <tr>\n",
              "      <th>5</th>\n",
              "      <td>Pop</td>\n",
              "    </tr>\n",
              "    <tr>\n",
              "      <th>6</th>\n",
              "      <td>R&amp;B/Hip-Hop alternative</td>\n",
              "    </tr>\n",
              "    <tr>\n",
              "      <th>7</th>\n",
              "      <td>Pop/Soft Rock</td>\n",
              "    </tr>\n",
              "    <tr>\n",
              "      <th>8</th>\n",
              "      <td>Pop rap</td>\n",
              "    </tr>\n",
              "    <tr>\n",
              "      <th>9</th>\n",
              "      <td>Electro-pop</td>\n",
              "    </tr>\n",
              "    <tr>\n",
              "      <th>10</th>\n",
              "      <td>Hip-Hop/Trap</td>\n",
              "    </tr>\n",
              "    <tr>\n",
              "      <th>11</th>\n",
              "      <td>Dance-pop/Disco</td>\n",
              "    </tr>\n",
              "    <tr>\n",
              "      <th>12</th>\n",
              "      <td>Disco-pop</td>\n",
              "    </tr>\n",
              "    <tr>\n",
              "      <th>13</th>\n",
              "      <td>Dreampop/Hip-Hop/R&amp;B</td>\n",
              "    </tr>\n",
              "    <tr>\n",
              "      <th>14</th>\n",
              "      <td>Alternative/reggaeton/experimental</td>\n",
              "    </tr>\n",
              "    <tr>\n",
              "      <th>15</th>\n",
              "      <td>Chamber pop</td>\n",
              "    </tr>\n",
              "  </tbody>\n",
              "</table>\n",
              "</div>"
            ],
            "text/plain": [
              "                                     0\n",
              "0                             R&B/Soul\n",
              "1                    Alternative/Indie\n",
              "2                          Hip-Hop/Rap\n",
              "3                     Dance/Electronic\n",
              "4                             Nu-disco\n",
              "5                                  Pop\n",
              "6              R&B/Hip-Hop alternative\n",
              "7                        Pop/Soft Rock\n",
              "8                              Pop rap\n",
              "9                          Electro-pop\n",
              "10                        Hip-Hop/Trap\n",
              "11                     Dance-pop/Disco\n",
              "12                           Disco-pop\n",
              "13                Dreampop/Hip-Hop/R&B\n",
              "14  Alternative/reggaeton/experimental\n",
              "15                         Chamber pop"
            ]
          },
          "execution_count": 22,
          "metadata": {},
          "output_type": "execute_result"
        }
      ],
      "source": [
        "print(\"The following genres have only one song in the top 50:\")\n",
        "pd.DataFrame(df['genre'].unique())"
      ]
    },
    {
      "cell_type": "markdown",
      "id": "26d64e9e",
      "metadata": {
        "id": "26d64e9e"
      },
      "source": [
        "How many genres in total are represented in the top 50?"
      ]
    },
    {
      "cell_type": "code",
      "execution_count": null,
      "id": "28d8a422",
      "metadata": {
        "id": "28d8a422",
        "outputId": "a6366f6f-8d14-4c2d-a304-09a6ac11984a"
      },
      "outputs": [
        {
          "name": "stdout",
          "output_type": "stream",
          "text": [
            "16 genres are represented in the top 50.\n"
          ]
        }
      ],
      "source": [
        "print(f\"{df['genre'].nunique()} genres are represented in the top 50.\")"
      ]
    },
    {
      "cell_type": "markdown",
      "id": "405348d1",
      "metadata": {
        "id": "405348d1"
      },
      "source": [
        "How does the danceability score compare between Pop, Hip-Hop/Rap, Dance/Electronic, and Alternative/Indie genres?\n"
      ]
    },
    {
      "cell_type": "code",
      "execution_count": null,
      "id": "0a916687",
      "metadata": {
        "id": "0a916687",
        "outputId": "a24d243d-7e99-403b-b35c-8c6279fcfb7f"
      },
      "outputs": [
        {
          "data": {
            "text/html": [
              "<div>\n",
              "<style scoped>\n",
              "    .dataframe tbody tr th:only-of-type {\n",
              "        vertical-align: middle;\n",
              "    }\n",
              "\n",
              "    .dataframe tbody tr th {\n",
              "        vertical-align: top;\n",
              "    }\n",
              "\n",
              "    .dataframe thead th {\n",
              "        text-align: right;\n",
              "    }\n",
              "</style>\n",
              "<table border=\"1\" class=\"dataframe\">\n",
              "  <thead>\n",
              "    <tr style=\"text-align: right;\">\n",
              "      <th></th>\n",
              "      <th>danceability</th>\n",
              "    </tr>\n",
              "    <tr>\n",
              "      <th>genre</th>\n",
              "      <th></th>\n",
              "    </tr>\n",
              "  </thead>\n",
              "  <tbody>\n",
              "    <tr>\n",
              "      <th>Alternative/Indie</th>\n",
              "      <td>0.661750</td>\n",
              "    </tr>\n",
              "    <tr>\n",
              "      <th>Pop</th>\n",
              "      <td>0.677571</td>\n",
              "    </tr>\n",
              "    <tr>\n",
              "      <th>Dance/Electronic</th>\n",
              "      <td>0.755000</td>\n",
              "    </tr>\n",
              "    <tr>\n",
              "      <th>Hip-Hop/Rap</th>\n",
              "      <td>0.765538</td>\n",
              "    </tr>\n",
              "  </tbody>\n",
              "</table>\n",
              "</div>"
            ],
            "text/plain": [
              "                   danceability\n",
              "genre                          \n",
              "Alternative/Indie      0.661750\n",
              "Pop                    0.677571\n",
              "Dance/Electronic       0.755000\n",
              "Hip-Hop/Rap            0.765538"
            ]
          },
          "execution_count": 24,
          "metadata": {},
          "output_type": "execute_result"
        }
      ],
      "source": [
        "desired_genres = ['Pop', 'Hip-Hop/Rap', 'Dance/Electronic', 'Alternative/Indie']\n",
        "filtered_df = df[df['genre'].isin(desired_genres)]\n",
        "mean_danceability = filtered_df[['genre','danceability']].groupby('genre').mean()\n",
        "sorted_mean_danceability = (mean_danceability.sort_values(by='danceability'))\n",
        "sorted_mean_danceability"
      ]
    },
    {
      "cell_type": "markdown",
      "id": "eb865abf",
      "metadata": {
        "id": "eb865abf"
      },
      "source": [
        "How does the loudness score compare between Pop, Hip-Hop/Rap, Dance/Electronic, and Alternative/Indie genres?"
      ]
    },
    {
      "cell_type": "code",
      "execution_count": null,
      "id": "dc595e52",
      "metadata": {
        "id": "dc595e52",
        "outputId": "903dc227-d60f-48d6-d62f-da981a0859f5"
      },
      "outputs": [
        {
          "data": {
            "text/html": [
              "<div>\n",
              "<style scoped>\n",
              "    .dataframe tbody tr th:only-of-type {\n",
              "        vertical-align: middle;\n",
              "    }\n",
              "\n",
              "    .dataframe tbody tr th {\n",
              "        vertical-align: top;\n",
              "    }\n",
              "\n",
              "    .dataframe thead th {\n",
              "        text-align: right;\n",
              "    }\n",
              "</style>\n",
              "<table border=\"1\" class=\"dataframe\">\n",
              "  <thead>\n",
              "    <tr style=\"text-align: right;\">\n",
              "      <th></th>\n",
              "      <th>loudness</th>\n",
              "    </tr>\n",
              "    <tr>\n",
              "      <th>genre</th>\n",
              "      <th></th>\n",
              "    </tr>\n",
              "  </thead>\n",
              "  <tbody>\n",
              "    <tr>\n",
              "      <th>Hip-Hop/Rap</th>\n",
              "      <td>-6.917846</td>\n",
              "    </tr>\n",
              "    <tr>\n",
              "      <th>Pop</th>\n",
              "      <td>-6.460357</td>\n",
              "    </tr>\n",
              "    <tr>\n",
              "      <th>Alternative/Indie</th>\n",
              "      <td>-5.421000</td>\n",
              "    </tr>\n",
              "    <tr>\n",
              "      <th>Dance/Electronic</th>\n",
              "      <td>-5.338000</td>\n",
              "    </tr>\n",
              "  </tbody>\n",
              "</table>\n",
              "</div>"
            ],
            "text/plain": [
              "                   loudness\n",
              "genre                      \n",
              "Hip-Hop/Rap       -6.917846\n",
              "Pop               -6.460357\n",
              "Alternative/Indie -5.421000\n",
              "Dance/Electronic  -5.338000"
            ]
          },
          "execution_count": 25,
          "metadata": {},
          "output_type": "execute_result"
        }
      ],
      "source": [
        "filtered_df_loudness = df[df['genre'].isin(desired_genres)]\n",
        "mean_loudness = filtered_df[['genre','loudness']].groupby('genre').mean()\n",
        "sorted_mean_loudness = (mean_loudness.sort_values(by='loudness'))\n",
        "sorted_mean_loudness"
      ]
    },
    {
      "cell_type": "markdown",
      "id": "e06a361a",
      "metadata": {
        "id": "e06a361a"
      },
      "source": [
        "How does the acousticness score compare between Pop, Hip-Hop/Rap, Dance/Electronic, and Alternative/Indie genres?"
      ]
    },
    {
      "cell_type": "code",
      "execution_count": null,
      "id": "33cc45fb",
      "metadata": {
        "id": "33cc45fb",
        "outputId": "d2849cbb-99c3-44be-f4be-b71f4bfd6886"
      },
      "outputs": [
        {
          "data": {
            "text/html": [
              "<div>\n",
              "<style scoped>\n",
              "    .dataframe tbody tr th:only-of-type {\n",
              "        vertical-align: middle;\n",
              "    }\n",
              "\n",
              "    .dataframe tbody tr th {\n",
              "        vertical-align: top;\n",
              "    }\n",
              "\n",
              "    .dataframe thead th {\n",
              "        text-align: right;\n",
              "    }\n",
              "</style>\n",
              "<table border=\"1\" class=\"dataframe\">\n",
              "  <thead>\n",
              "    <tr style=\"text-align: right;\">\n",
              "      <th></th>\n",
              "      <th>acousticness</th>\n",
              "    </tr>\n",
              "    <tr>\n",
              "      <th>genre</th>\n",
              "      <th></th>\n",
              "    </tr>\n",
              "  </thead>\n",
              "  <tbody>\n",
              "    <tr>\n",
              "      <th>Dance/Electronic</th>\n",
              "      <td>0.099440</td>\n",
              "    </tr>\n",
              "    <tr>\n",
              "      <th>Hip-Hop/Rap</th>\n",
              "      <td>0.188741</td>\n",
              "    </tr>\n",
              "    <tr>\n",
              "      <th>Pop</th>\n",
              "      <td>0.323843</td>\n",
              "    </tr>\n",
              "    <tr>\n",
              "      <th>Alternative/Indie</th>\n",
              "      <td>0.583500</td>\n",
              "    </tr>\n",
              "  </tbody>\n",
              "</table>\n",
              "</div>"
            ],
            "text/plain": [
              "                   acousticness\n",
              "genre                          \n",
              "Dance/Electronic       0.099440\n",
              "Hip-Hop/Rap            0.188741\n",
              "Pop                    0.323843\n",
              "Alternative/Indie      0.583500"
            ]
          },
          "execution_count": 26,
          "metadata": {},
          "output_type": "execute_result"
        }
      ],
      "source": [
        "filtered_df_acousticness = df[df['genre'].isin(desired_genres)]\n",
        "mean_acousticness = filtered_df[['genre','acousticness']].groupby('genre').mean()\n",
        "sorted_mean_acousticness = (mean_acousticness.sort_values(by='acousticness'))\n",
        "sorted_mean_acousticness"
      ]
    },
    {
      "cell_type": "markdown",
      "id": "6f3afd2f",
      "metadata": {
        "id": "6f3afd2f"
      },
      "source": [
        "Which features are strongly positively correlated?"
      ]
    },
    {
      "cell_type": "code",
      "execution_count": null,
      "id": "c6753781",
      "metadata": {
        "id": "c6753781",
        "outputId": "fd6445a8-bbde-4edb-dbd4-a040bf7db97e"
      },
      "outputs": [
        {
          "name": "stdout",
          "output_type": "stream",
          "text": [
            "Strongly Positively Correlated Features:\n",
            "('energy', 'loudness')\n"
          ]
        }
      ],
      "source": [
        "# Identify the numeric features\n",
        "numeric_features = df.select_dtypes(include=[np.number])\n",
        "\n",
        "# Set the correlation threshold\n",
        "threshold = 0.6\n",
        "\n",
        "# Compute the correlation matrix\n",
        "correlation_matrix = numeric_features.corr()\n",
        "\n",
        "# Find indices of strongly positively correlated features\n",
        "indices = np.where((correlation_matrix > threshold) & (correlation_matrix < 1))\n",
        "\n",
        "# Extract feature pairs\n",
        "positive_correlated_features = set()\n",
        "for i, j in zip(indices[0], indices[1]):\n",
        "    if i < j:  # Ensure only one representation of each pair is considered\n",
        "        positive_correlated_features.add((numeric_features.columns[i], numeric_features.columns[j]))\n",
        "\n",
        "# Print the strongly positively correlated features\n",
        "print(\"Strongly Positively Correlated Features:\")\n",
        "for feature_pair in positive_correlated_features:\n",
        "    print(feature_pair)\n"
      ]
    },
    {
      "cell_type": "markdown",
      "id": "c40fea05",
      "metadata": {
        "id": "c40fea05"
      },
      "source": [
        "Which features are strongly negatively correlated?"
      ]
    },
    {
      "cell_type": "code",
      "execution_count": null,
      "id": "bb4e767b",
      "metadata": {
        "id": "bb4e767b",
        "outputId": "4f85431e-c4f6-4907-eafd-0ff100e79d06"
      },
      "outputs": [
        {
          "name": "stdout",
          "output_type": "stream",
          "text": [
            "Strongly Negatively Correlated Features:\n",
            "('energy', 'acousticness')\n"
          ]
        }
      ],
      "source": [
        "# Set your correlation threshold for strong negative correlation\n",
        "threshold = -0.6\n",
        "\n",
        "# Find indices of strongly negatively correlated features\n",
        "indices = np.where((correlation_matrix < threshold) & (correlation_matrix > -1))\n",
        "\n",
        "# Extract feature pairs\n",
        "negative_correlated_features = set()\n",
        "for i, j in zip(indices[0], indices[1]):\n",
        "    if i < j:  # Ensure only one representation of each pair is considered\n",
        "        negative_correlated_features.add((numeric_features.columns[i], numeric_features.columns[j]))\n",
        "\n",
        "# Print the strongly negatively correlated features\n",
        "print(\"Strongly Negatively Correlated Features:\")\n",
        "for feature_pair in negative_correlated_features:\n",
        "    print(feature_pair)\n"
      ]
    },
    {
      "cell_type": "markdown",
      "id": "15a44ba5",
      "metadata": {
        "id": "15a44ba5"
      },
      "source": [
        "Which features are not correlated?"
      ]
    },
    {
      "cell_type": "code",
      "execution_count": null,
      "id": "8dbc1c67",
      "metadata": {
        "id": "8dbc1c67",
        "outputId": "12d4c443-e3a1-4b42-c075-cb7e26bcb028"
      },
      "outputs": [
        {
          "name": "stdout",
          "output_type": "stream",
          "text": [
            "Non-Correlated Features:\n",
            "('acousticness', 'speechiness')\n",
            "('speechiness', 'valence')\n",
            "('acousticness', 'duration_ms')\n",
            "('danceability', 'acousticness')\n",
            "('energy', 'speechiness')\n",
            "('energy', 'danceability')\n",
            "('instrumentalness', 'tempo')\n",
            "('tempo', 'duration_ms')\n",
            "('energy', 'duration_ms')\n",
            "('loudness', 'speechiness')\n",
            "('key', 'speechiness')\n",
            "('instrumentalness', 'liveness')\n",
            "('danceability', 'tempo')\n",
            "('loudness', 'duration_ms')\n",
            "('key', 'duration_ms')\n",
            "('instrumentalness', 'valence')\n",
            "('danceability', 'liveness')\n",
            "('liveness', 'duration_ms')\n",
            "('danceability', 'valence')\n",
            "('acousticness', 'instrumentalness')\n",
            "('energy', 'instrumentalness')\n",
            "('energy', 'loudness')\n",
            "('loudness', 'instrumentalness')\n",
            "('key', 'instrumentalness')\n",
            "('key', 'loudness')\n",
            "('speechiness', 'duration_ms')\n",
            "('valence', 'duration_ms')\n",
            "('danceability', 'key')\n",
            "('instrumentalness', 'duration_ms')\n",
            "('energy', 'acousticness')\n",
            "('danceability', 'speechiness')\n",
            "('acousticness', 'tempo')\n",
            "('danceability', 'duration_ms')\n",
            "('key', 'acousticness')\n",
            "('loudness', 'acousticness')\n",
            "('energy', 'tempo')\n",
            "('acousticness', 'liveness')\n",
            "('speechiness', 'instrumentalness')\n",
            "('loudness', 'tempo')\n",
            "('key', 'tempo')\n",
            "('energy', 'liveness')\n",
            "('acousticness', 'valence')\n",
            "('energy', 'valence')\n",
            "('key', 'liveness')\n",
            "('loudness', 'liveness')\n",
            "('liveness', 'tempo')\n",
            "('loudness', 'valence')\n",
            "('key', 'valence')\n",
            "('danceability', 'instrumentalness')\n",
            "('liveness', 'valence')\n",
            "('danceability', 'loudness')\n",
            "('speechiness', 'tempo')\n",
            "('speechiness', 'liveness')\n",
            "('energy', 'key')\n",
            "('valence', 'tempo')\n"
          ]
        }
      ],
      "source": [
        "# Set the correlation threshold\n",
        "threshold = 0.4  # You can adjust this threshold\n",
        "\n",
        "# Find indices of non-correlated features\n",
        "indices = np.where((correlation_matrix < threshold) | (correlation_matrix > -threshold))\n",
        "\n",
        "# Extract feature pairs\n",
        "non_correlated_features = set()\n",
        "for i, j in zip(indices[0], indices[1]):\n",
        "    if i < j:  # Ensure only one representation of each pair is considered\n",
        "        non_correlated_features.add((numeric_features.columns[i], numeric_features.columns[j]))\n",
        "\n",
        "# Print the non-correlated features\n",
        "print(\"Non-Correlated Features:\")\n",
        "for feature_pair in non_correlated_features:\n",
        "    print(feature_pair)"
      ]
    },
    {
      "cell_type": "markdown",
      "id": "f11cf14e",
      "metadata": {
        "id": "f11cf14e"
      },
      "source": [
        "## Improvements:\n",
        "- The impact of the analysis can be enhanced by visualisations and statistical summary of the features.\n",
        "- Visualisations and descriptive statistics was not used as the scope of the project was limited to data wrangling using Pandas and NumPy"
      ]
    },
    {
      "cell_type": "code",
      "execution_count": null,
      "id": "64a75969",
      "metadata": {
        "id": "64a75969",
        "outputId": "b3826d0e-6e69-431e-eed6-43ab6ddcfb4f"
      },
      "outputs": [
        {
          "data": {
            "text/html": [
              "<div>\n",
              "<style scoped>\n",
              "    .dataframe tbody tr th:only-of-type {\n",
              "        vertical-align: middle;\n",
              "    }\n",
              "\n",
              "    .dataframe tbody tr th {\n",
              "        vertical-align: top;\n",
              "    }\n",
              "\n",
              "    .dataframe thead th {\n",
              "        text-align: right;\n",
              "    }\n",
              "</style>\n",
              "<table border=\"1\" class=\"dataframe\">\n",
              "  <thead>\n",
              "    <tr style=\"text-align: right;\">\n",
              "      <th></th>\n",
              "      <th>energy</th>\n",
              "      <th>danceability</th>\n",
              "      <th>key</th>\n",
              "      <th>loudness</th>\n",
              "      <th>acousticness</th>\n",
              "      <th>speechiness</th>\n",
              "      <th>instrumentalness</th>\n",
              "      <th>liveness</th>\n",
              "      <th>valence</th>\n",
              "      <th>tempo</th>\n",
              "      <th>duration_ms</th>\n",
              "    </tr>\n",
              "  </thead>\n",
              "  <tbody>\n",
              "    <tr>\n",
              "      <th>energy</th>\n",
              "      <td>1.000000</td>\n",
              "      <td>0.152552</td>\n",
              "      <td>0.062428</td>\n",
              "      <td>0.791640</td>\n",
              "      <td>-0.682479</td>\n",
              "      <td>0.074267</td>\n",
              "      <td>-0.385515</td>\n",
              "      <td>0.069487</td>\n",
              "      <td>0.393453</td>\n",
              "      <td>0.075191</td>\n",
              "      <td>0.081971</td>\n",
              "    </tr>\n",
              "    <tr>\n",
              "      <th>danceability</th>\n",
              "      <td>0.152552</td>\n",
              "      <td>1.000000</td>\n",
              "      <td>0.285036</td>\n",
              "      <td>0.167147</td>\n",
              "      <td>-0.359135</td>\n",
              "      <td>0.226148</td>\n",
              "      <td>-0.017706</td>\n",
              "      <td>-0.006648</td>\n",
              "      <td>0.479953</td>\n",
              "      <td>0.168956</td>\n",
              "      <td>-0.033763</td>\n",
              "    </tr>\n",
              "    <tr>\n",
              "      <th>key</th>\n",
              "      <td>0.062428</td>\n",
              "      <td>0.285036</td>\n",
              "      <td>1.000000</td>\n",
              "      <td>-0.009178</td>\n",
              "      <td>-0.113394</td>\n",
              "      <td>-0.094965</td>\n",
              "      <td>0.020802</td>\n",
              "      <td>0.278672</td>\n",
              "      <td>0.120007</td>\n",
              "      <td>0.080475</td>\n",
              "      <td>-0.003345</td>\n",
              "    </tr>\n",
              "    <tr>\n",
              "      <th>loudness</th>\n",
              "      <td>0.791640</td>\n",
              "      <td>0.167147</td>\n",
              "      <td>-0.009178</td>\n",
              "      <td>1.000000</td>\n",
              "      <td>-0.498695</td>\n",
              "      <td>-0.021693</td>\n",
              "      <td>-0.553735</td>\n",
              "      <td>-0.069939</td>\n",
              "      <td>0.406772</td>\n",
              "      <td>0.102097</td>\n",
              "      <td>0.064130</td>\n",
              "    </tr>\n",
              "    <tr>\n",
              "      <th>acousticness</th>\n",
              "      <td>-0.682479</td>\n",
              "      <td>-0.359135</td>\n",
              "      <td>-0.113394</td>\n",
              "      <td>-0.498695</td>\n",
              "      <td>1.000000</td>\n",
              "      <td>-0.135392</td>\n",
              "      <td>0.352184</td>\n",
              "      <td>-0.128384</td>\n",
              "      <td>-0.243192</td>\n",
              "      <td>-0.241119</td>\n",
              "      <td>-0.010988</td>\n",
              "    </tr>\n",
              "    <tr>\n",
              "      <th>speechiness</th>\n",
              "      <td>0.074267</td>\n",
              "      <td>0.226148</td>\n",
              "      <td>-0.094965</td>\n",
              "      <td>-0.021693</td>\n",
              "      <td>-0.135392</td>\n",
              "      <td>1.000000</td>\n",
              "      <td>0.028948</td>\n",
              "      <td>-0.142957</td>\n",
              "      <td>0.053867</td>\n",
              "      <td>0.215504</td>\n",
              "      <td>0.366976</td>\n",
              "    </tr>\n",
              "    <tr>\n",
              "      <th>instrumentalness</th>\n",
              "      <td>-0.385515</td>\n",
              "      <td>-0.017706</td>\n",
              "      <td>0.020802</td>\n",
              "      <td>-0.553735</td>\n",
              "      <td>0.352184</td>\n",
              "      <td>0.028948</td>\n",
              "      <td>1.000000</td>\n",
              "      <td>-0.087034</td>\n",
              "      <td>-0.203283</td>\n",
              "      <td>0.018853</td>\n",
              "      <td>0.184709</td>\n",
              "    </tr>\n",
              "    <tr>\n",
              "      <th>liveness</th>\n",
              "      <td>0.069487</td>\n",
              "      <td>-0.006648</td>\n",
              "      <td>0.278672</td>\n",
              "      <td>-0.069939</td>\n",
              "      <td>-0.128384</td>\n",
              "      <td>-0.142957</td>\n",
              "      <td>-0.087034</td>\n",
              "      <td>1.000000</td>\n",
              "      <td>-0.033366</td>\n",
              "      <td>0.025457</td>\n",
              "      <td>-0.090188</td>\n",
              "    </tr>\n",
              "    <tr>\n",
              "      <th>valence</th>\n",
              "      <td>0.393453</td>\n",
              "      <td>0.479953</td>\n",
              "      <td>0.120007</td>\n",
              "      <td>0.406772</td>\n",
              "      <td>-0.243192</td>\n",
              "      <td>0.053867</td>\n",
              "      <td>-0.203283</td>\n",
              "      <td>-0.033366</td>\n",
              "      <td>1.000000</td>\n",
              "      <td>0.045089</td>\n",
              "      <td>-0.039794</td>\n",
              "    </tr>\n",
              "    <tr>\n",
              "      <th>tempo</th>\n",
              "      <td>0.075191</td>\n",
              "      <td>0.168956</td>\n",
              "      <td>0.080475</td>\n",
              "      <td>0.102097</td>\n",
              "      <td>-0.241119</td>\n",
              "      <td>0.215504</td>\n",
              "      <td>0.018853</td>\n",
              "      <td>0.025457</td>\n",
              "      <td>0.045089</td>\n",
              "      <td>1.000000</td>\n",
              "      <td>0.130328</td>\n",
              "    </tr>\n",
              "    <tr>\n",
              "      <th>duration_ms</th>\n",
              "      <td>0.081971</td>\n",
              "      <td>-0.033763</td>\n",
              "      <td>-0.003345</td>\n",
              "      <td>0.064130</td>\n",
              "      <td>-0.010988</td>\n",
              "      <td>0.366976</td>\n",
              "      <td>0.184709</td>\n",
              "      <td>-0.090188</td>\n",
              "      <td>-0.039794</td>\n",
              "      <td>0.130328</td>\n",
              "      <td>1.000000</td>\n",
              "    </tr>\n",
              "  </tbody>\n",
              "</table>\n",
              "</div>"
            ],
            "text/plain": [
              "                    energy  danceability       key  loudness  acousticness  \\\n",
              "energy            1.000000      0.152552  0.062428  0.791640     -0.682479   \n",
              "danceability      0.152552      1.000000  0.285036  0.167147     -0.359135   \n",
              "key               0.062428      0.285036  1.000000 -0.009178     -0.113394   \n",
              "loudness          0.791640      0.167147 -0.009178  1.000000     -0.498695   \n",
              "acousticness     -0.682479     -0.359135 -0.113394 -0.498695      1.000000   \n",
              "speechiness       0.074267      0.226148 -0.094965 -0.021693     -0.135392   \n",
              "instrumentalness -0.385515     -0.017706  0.020802 -0.553735      0.352184   \n",
              "liveness          0.069487     -0.006648  0.278672 -0.069939     -0.128384   \n",
              "valence           0.393453      0.479953  0.120007  0.406772     -0.243192   \n",
              "tempo             0.075191      0.168956  0.080475  0.102097     -0.241119   \n",
              "duration_ms       0.081971     -0.033763 -0.003345  0.064130     -0.010988   \n",
              "\n",
              "                  speechiness  instrumentalness  liveness   valence     tempo  \\\n",
              "energy               0.074267         -0.385515  0.069487  0.393453  0.075191   \n",
              "danceability         0.226148         -0.017706 -0.006648  0.479953  0.168956   \n",
              "key                 -0.094965          0.020802  0.278672  0.120007  0.080475   \n",
              "loudness            -0.021693         -0.553735 -0.069939  0.406772  0.102097   \n",
              "acousticness        -0.135392          0.352184 -0.128384 -0.243192 -0.241119   \n",
              "speechiness          1.000000          0.028948 -0.142957  0.053867  0.215504   \n",
              "instrumentalness     0.028948          1.000000 -0.087034 -0.203283  0.018853   \n",
              "liveness            -0.142957         -0.087034  1.000000 -0.033366  0.025457   \n",
              "valence              0.053867         -0.203283 -0.033366  1.000000  0.045089   \n",
              "tempo                0.215504          0.018853  0.025457  0.045089  1.000000   \n",
              "duration_ms          0.366976          0.184709 -0.090188 -0.039794  0.130328   \n",
              "\n",
              "                  duration_ms  \n",
              "energy               0.081971  \n",
              "danceability        -0.033763  \n",
              "key                 -0.003345  \n",
              "loudness             0.064130  \n",
              "acousticness        -0.010988  \n",
              "speechiness          0.366976  \n",
              "instrumentalness     0.184709  \n",
              "liveness            -0.090188  \n",
              "valence             -0.039794  \n",
              "tempo                0.130328  \n",
              "duration_ms          1.000000  "
            ]
          },
          "execution_count": 35,
          "metadata": {},
          "output_type": "execute_result"
        }
      ],
      "source": [
        "correlation_matrix"
      ]
    },
    {
      "cell_type": "code",
      "execution_count": null,
      "id": "e81fef5a",
      "metadata": {
        "id": "e81fef5a"
      },
      "outputs": [],
      "source": []
    },
    {
      "cell_type": "code",
      "execution_count": null,
      "id": "91eafa8e",
      "metadata": {
        "id": "91eafa8e"
      },
      "outputs": [],
      "source": []
    },
    {
      "cell_type": "code",
      "execution_count": null,
      "id": "604fb427",
      "metadata": {
        "id": "604fb427"
      },
      "outputs": [],
      "source": []
    }
  ],
  "metadata": {
    "kernelspec": {
      "display_name": "Python 3 (ipykernel)",
      "language": "python",
      "name": "python3"
    },
    "language_info": {
      "codemirror_mode": {
        "name": "ipython",
        "version": 3
      },
      "file_extension": ".py",
      "mimetype": "text/x-python",
      "name": "python",
      "nbconvert_exporter": "python",
      "pygments_lexer": "ipython3",
      "version": "3.11.4"
    },
    "colab": {
      "provenance": [],
      "include_colab_link": true
    }
  },
  "nbformat": 4,
  "nbformat_minor": 5
}